{
 "cells": [
  {
   "cell_type": "code",
   "execution_count": 1,
   "id": "c0ee3e02-35d6-4bb5-9a74-bea506d33f98",
   "metadata": {},
   "outputs": [],
   "source": [
    "# Q1 "
   ]
  },
  {
   "cell_type": "code",
   "execution_count": 2,
   "id": "64c4ca7c-fed8-4317-8f51-a52bc9d1ec27",
   "metadata": {},
   "outputs": [],
   "source": [
    "M=\"SAALIK\""
   ]
  },
  {
   "cell_type": "code",
   "execution_count": 3,
   "id": "1061ec04-4404-4330-ac57-75a7fed79da4",
   "metadata": {},
   "outputs": [
    {
     "data": {
      "text/plain": [
       "str"
      ]
     },
     "execution_count": 3,
     "metadata": {},
     "output_type": "execute_result"
    }
   ],
   "source": [
    "type(M)"
   ]
  },
  {
   "cell_type": "code",
   "execution_count": 4,
   "id": "a84e6597-105f-477d-9966-a51382701a2f",
   "metadata": {},
   "outputs": [],
   "source": [
    "N=[\"Saalik\" , \"PWskills\" , \"Assignment\"]"
   ]
  },
  {
   "cell_type": "code",
   "execution_count": 5,
   "id": "dc701273-63f5-4d0d-80aa-a73df7457428",
   "metadata": {},
   "outputs": [
    {
     "data": {
      "text/plain": [
       "['Saalik', 'PWskills', 'Assignment']"
      ]
     },
     "execution_count": 5,
     "metadata": {},
     "output_type": "execute_result"
    }
   ],
   "source": [
    "N"
   ]
  },
  {
   "cell_type": "code",
   "execution_count": 6,
   "id": "25a0ec34-3ba6-4ed1-abed-0dd7b55600ca",
   "metadata": {},
   "outputs": [
    {
     "data": {
      "text/plain": [
       "list"
      ]
     },
     "execution_count": 6,
     "metadata": {},
     "output_type": "execute_result"
    }
   ],
   "source": [
    "type(N)"
   ]
  },
  {
   "cell_type": "code",
   "execution_count": 6,
   "id": "853b0d51-64aa-49b6-81cc-7b9463235faa",
   "metadata": {},
   "outputs": [],
   "source": [
    "P=843.4"
   ]
  },
  {
   "cell_type": "code",
   "execution_count": 7,
   "id": "218e84e5-242c-4f76-b74b-848e7d43dc29",
   "metadata": {},
   "outputs": [
    {
     "data": {
      "text/plain": [
       "float"
      ]
     },
     "execution_count": 7,
     "metadata": {},
     "output_type": "execute_result"
    }
   ],
   "source": [
    "type(P)"
   ]
  },
  {
   "cell_type": "code",
   "execution_count": 22,
   "id": "65b2106a-3c53-40a8-b916-4e50bec593c3",
   "metadata": {},
   "outputs": [
    {
     "name": "stdout",
     "output_type": "stream",
     "text": [
      "(1, 2, 3, 'String')\n"
     ]
    }
   ],
   "source": [
    "my_tuple = (1, 2, 3,\"String\")\n",
    "print(my_tuple)"
   ]
  },
  {
   "cell_type": "code",
   "execution_count": null,
   "id": "93cbd9c8-ff37-402b-8a2f-f3e8e34d4792",
   "metadata": {},
   "outputs": [],
   "source": [
    "#-----------------------------------------------------------------------------"
   ]
  },
  {
   "cell_type": "code",
   "execution_count": 12,
   "id": "875b3379-6a5b-489e-b969-a43d002f26fe",
   "metadata": {},
   "outputs": [],
   "source": [
    "# Q2"
   ]
  },
  {
   "cell_type": "code",
   "execution_count": 13,
   "id": "f9baeaec-1aec-4dc3-b540-43bccdeed477",
   "metadata": {},
   "outputs": [],
   "source": [
    "var1=''"
   ]
  },
  {
   "cell_type": "code",
   "execution_count": 14,
   "id": "3a9bc850-b4ea-4910-aab6-17de05f4424c",
   "metadata": {},
   "outputs": [
    {
     "data": {
      "text/plain": [
       "str"
      ]
     },
     "execution_count": 14,
     "metadata": {},
     "output_type": "execute_result"
    }
   ],
   "source": [
    "type(var1)"
   ]
  },
  {
   "cell_type": "code",
   "execution_count": 15,
   "id": "1fb9fb07-908d-40de-a006-8b8901dbc4fa",
   "metadata": {},
   "outputs": [],
   "source": [
    "var2='[DS,Ml,PYTHON]'"
   ]
  },
  {
   "cell_type": "code",
   "execution_count": 16,
   "id": "ba3b76cd-d727-44d6-b63e-3a902b8fd638",
   "metadata": {},
   "outputs": [
    {
     "data": {
      "text/plain": [
       "str"
      ]
     },
     "execution_count": 16,
     "metadata": {},
     "output_type": "execute_result"
    }
   ],
   "source": [
    "type(var2)"
   ]
  },
  {
   "cell_type": "code",
   "execution_count": 17,
   "id": "0a6f08fd-b528-4b08-8d4e-12eafd42ca17",
   "metadata": {},
   "outputs": [],
   "source": [
    "var3=['DS','ML','Python']"
   ]
  },
  {
   "cell_type": "code",
   "execution_count": 19,
   "id": "8aa92c9e-fcdf-41d5-945e-980fbdd6a02c",
   "metadata": {},
   "outputs": [
    {
     "data": {
      "text/plain": [
       "list"
      ]
     },
     "execution_count": 19,
     "metadata": {},
     "output_type": "execute_result"
    }
   ],
   "source": [
    "type(var3)"
   ]
  },
  {
   "cell_type": "code",
   "execution_count": 20,
   "id": "768e5417-d9e8-4ef7-a571-3ddd38087361",
   "metadata": {},
   "outputs": [],
   "source": [
    "var4=1."
   ]
  },
  {
   "cell_type": "code",
   "execution_count": 21,
   "id": "741a6acf-1611-4e91-ade9-c096d09df61f",
   "metadata": {},
   "outputs": [
    {
     "data": {
      "text/plain": [
       "float"
      ]
     },
     "execution_count": 21,
     "metadata": {},
     "output_type": "execute_result"
    }
   ],
   "source": [
    "type(var4)"
   ]
  },
  {
   "cell_type": "code",
   "execution_count": 33,
   "id": "bd864c8f-16e4-4768-b7ae-7aa4b5659d1a",
   "metadata": {},
   "outputs": [],
   "source": [
    "#----------------------------------------------------------------------------------"
   ]
  },
  {
   "cell_type": "code",
   "execution_count": 34,
   "id": "ec5a7aa1-fed9-43d4-acaa-3bbac3049f7e",
   "metadata": {},
   "outputs": [],
   "source": [
    "# Q3"
   ]
  },
  {
   "cell_type": "code",
   "execution_count": 35,
   "id": "c0d21e3e-930e-4da5-8c5c-ef5b1992203b",
   "metadata": {},
   "outputs": [],
   "source": [
    "#1    /  this operator is used for division ,lets take an example below"
   ]
  },
  {
   "cell_type": "code",
   "execution_count": 36,
   "id": "dd99937e-4626-4ddb-b145-cf3cc811fc6f",
   "metadata": {},
   "outputs": [
    {
     "name": "stdout",
     "output_type": "stream",
     "text": [
      "0.25\n"
     ]
    }
   ],
   "source": [
    "x=2\n",
    "y=8\n",
    "print(x/y)"
   ]
  },
  {
   "cell_type": "code",
   "execution_count": 37,
   "id": "0b18b125-8e2c-400b-8fbf-91611aaccc6b",
   "metadata": {},
   "outputs": [],
   "source": [
    "#2   % this operator is called modulus operator it is used to find the Remainder of the divison"
   ]
  },
  {
   "cell_type": "code",
   "execution_count": 41,
   "id": "b354aa99-e4d4-4966-94d1-b0568c29d8b5",
   "metadata": {},
   "outputs": [
    {
     "name": "stdout",
     "output_type": "stream",
     "text": [
      "10\n"
     ]
    }
   ],
   "source": [
    "x=10\n",
    "y=50\n",
    "print(x%y)"
   ]
  },
  {
   "cell_type": "code",
   "execution_count": 42,
   "id": "9a71cd2f-aab2-41d7-8808-ee217c2cf107",
   "metadata": {},
   "outputs": [],
   "source": [
    "#3   // this is called the floor division its rounds the result and down to the nearest whole number"
   ]
  },
  {
   "cell_type": "code",
   "execution_count": 43,
   "id": "fdb96536-0f67-4d26-bdc7-3e0ca5b7a530",
   "metadata": {},
   "outputs": [
    {
     "name": "stdout",
     "output_type": "stream",
     "text": [
      "6\n"
     ]
    }
   ],
   "source": [
    "x=20\n",
    "y=3\n",
    "print(x//y)"
   ]
  },
  {
   "cell_type": "code",
   "execution_count": 46,
   "id": "99477568-114f-46f6-b94f-3ce39873c461",
   "metadata": {},
   "outputs": [],
   "source": [
    "#4  ** this is called the Exponentiation it means it mulitply the number with its own by 2 times ex, 2**=> 2x2x2=8"
   ]
  },
  {
   "cell_type": "code",
   "execution_count": 50,
   "id": "bdb2e3f5-d70d-48f5-8a00-db832a4136e9",
   "metadata": {},
   "outputs": [
    {
     "name": "stdout",
     "output_type": "stream",
     "text": [
      "8\n"
     ]
    }
   ],
   "source": [
    "x=2\n",
    "y=3\n",
    "print(2**3)"
   ]
  },
  {
   "cell_type": "code",
   "execution_count": 61,
   "id": "4d6957eb-bb07-4137-8aba-f3df255748cd",
   "metadata": {},
   "outputs": [],
   "source": [
    "#-------------------------------------------------------------------------------------------------"
   ]
  },
  {
   "cell_type": "code",
   "execution_count": 6,
   "id": "d4ef4c70-146c-4acf-86a3-7d5e2af12d0b",
   "metadata": {},
   "outputs": [],
   "source": [
    "# Q4"
   ]
  },
  {
   "cell_type": "code",
   "execution_count": null,
   "id": "f3c015d9-ad9b-42c9-ad57-151096df7b76",
   "metadata": {},
   "outputs": [
    {
     "name": "stdout",
     "output_type": "stream",
     "text": [
      "42 - <class 'int'>\n",
      "Hello, world - <class 'str'>\n",
      "3.14 - <class 'float'>\n",
      "True - <class 'bool'>\n",
      "None - <class 'NoneType'>\n",
      "[1, 2, 3] - <class 'list'>\n",
      "{'name': 'John', 'age': 30} - <class 'dict'>\n",
      "(1, 2, 3) - <class 'tuple'>\n",
      "{'cherry', 'banana', 'apple'} - <class 'set'>\n",
      "123456789 - <class 'int'>\n"
     ]
    }
   ],
   "source": [
    "SAALIk_list = [42, \"Hello, world\", 3.14, True, None, [1, 2, 3], {\"name\": \"John\", \"age\": 30}, (1, 2, 3), {\"apple\", \"banana\", \"cherry\"}, 123456789]\n",
    "\n",
    "for item in SAALIk_list:\n",
    "    print(f\"{item} - {type(item)}\")\n"
   ]
  },
  {
   "cell_type": "code",
   "execution_count": 7,
   "id": "e9ea4dc4-f26b-49b0-b064-f5434d112257",
   "metadata": {},
   "outputs": [],
   "source": [
    "#---------------------------------------------------------------------"
   ]
  },
  {
   "cell_type": "code",
   "execution_count": 8,
   "id": "16d21d48-5389-4dac-aac1-241d7f20ad43",
   "metadata": {},
   "outputs": [],
   "source": [
    "# Q5"
   ]
  },
  {
   "cell_type": "code",
   "execution_count": 9,
   "id": "24eece97-e843-4ba6-b748-f1d7f5b452d4",
   "metadata": {},
   "outputs": [
    {
     "name": "stdin",
     "output_type": "stream",
     "text": [
      "Enter the value of number A:  12\n",
      "Enter the value of number B:  12\n"
     ]
    },
    {
     "name": "stdout",
     "output_type": "stream",
     "text": [
      "1 is divisible by 12 and it can be divided 1 times.\n"
     ]
    }
   ],
   "source": [
    "# Input numbers A and B\n",
    "A = int(input(\"Enter the value of number A: \"))\n",
    "B = int(input(\"Enter the value of number B: \"))\n",
    "\n",
    "# Initialize a counter to keep track of the number of divisions\n",
    "divisions = 0\n",
    "\n",
    "# Verify if A is divisible by B and count the number of divisions\n",
    "while A % B == 0:\n",
    "    A //= B\n",
    "    divisions += 1\n",
    "\n",
    "# Output the result\n",
    "if divisions > 0:\n",
    "    print(f\"{A} is divisible by {B} and it can be divided {divisions} times.\")\n",
    "else:\n",
    "    print(f\"{A} is not divisible by {B}.\")\n"
   ]
  },
  {
   "cell_type": "code",
   "execution_count": 10,
   "id": "7a40cef8-3c8a-42f7-9a52-e81cec9fe980",
   "metadata": {},
   "outputs": [],
   "source": [
    "#------------------------------------------------------------------------------"
   ]
  },
  {
   "cell_type": "code",
   "execution_count": 11,
   "id": "c7258c6f-a017-4c92-a89a-8e48ee2595cc",
   "metadata": {},
   "outputs": [],
   "source": [
    "# Q5"
   ]
  },
  {
   "cell_type": "code",
   "execution_count": 15,
   "id": "d7336162-20e7-44f2-987e-6cc92dc0a5bc",
   "metadata": {},
   "outputs": [
    {
     "name": "stdout",
     "output_type": "stream",
     "text": [
      "12 is divisible by 3.\n",
      "5 is not divisible by 3.\n",
      "27 is divisible by 3.\n",
      "8 is not divisible by 3.\n",
      "33 is divisible by 3.\n",
      "18 is divisible by 3.\n",
      "6 is divisible by 3.\n",
      "41 is not divisible by 3.\n",
      "9 is divisible by 3.\n",
      "15 is divisible by 3.\n",
      "22 is not divisible by 3.\n",
      "30 is divisible by 3.\n",
      "14 is not divisible by 3.\n",
      "7 is not divisible by 3.\n",
      "36 is divisible by 3.\n",
      "17 is not divisible by 3.\n",
      "20 is not divisible by 3.\n",
      "11 is not divisible by 3.\n",
      "4 is not divisible by 3.\n",
      "25 is not divisible by 3.\n",
      "3 is divisible by 3.\n",
      "16 is not divisible by 3.\n",
      "19 is not divisible by 3.\n",
      "21 is divisible by 3.\n",
      "10 is not divisible by 3.\n"
     ]
    }
   ],
   "source": [
    "# Create a list containing 25 int type data\n",
    "Saalik_list = [12, 5, 27, 8, 33, 18, 6, 41, 9, 15, 22, 30, 14, 7, 36, 17, 20, 11, 4, 25, 3, 16, 19, 21, 10]\n",
    "\n",
    "# check if each element is divisible by 3 or not\n",
    "for item in Saalik_list:\n",
    "    if item % 3 == 0:\n",
    "        print(f\"{item} is divisible by 3.\")\n",
    "    else:\n",
    "        print(f\"{item} is not divisible by 3.\")\n"
   ]
  },
  {
   "cell_type": "code",
   "execution_count": 16,
   "id": "d97b5311-3b46-4f3a-994c-390879ca61e9",
   "metadata": {},
   "outputs": [],
   "source": [
    "#-----------------------------------------------------------------------"
   ]
  },
  {
   "cell_type": "code",
   "execution_count": 17,
   "id": "05173324-01cc-4f02-92ef-533b36fa48a5",
   "metadata": {},
   "outputs": [],
   "source": [
    "# Q5"
   ]
  },
  {
   "cell_type": "code",
   "execution_count": 20,
   "id": "bac4101f-af55-4cfa-8761-572eaeda2844",
   "metadata": {},
   "outputs": [
    {
     "name": "stdout",
     "output_type": "stream",
     "text": [
      "Original list: [1, 2, 3, 4]\n",
      "Modified list: [1, 2, 3, 4, 5]\n"
     ]
    }
   ],
   "source": [
    "# MUTABLE DATA TYPE;  \n",
    "#->Mutable data types are those whose values can be changed or modified after they are created. When you perform an operation that modifies a mutable object, it directly changes the original object in memory.\n",
    "\n",
    "# Example with a list\n",
    "my_list = [1, 2, 3, 4]\n",
    "print(\"Original list:\", my_list)\n",
    "\n",
    "# Modifying the list\n",
    "my_list.append(5) # Add digit 5 after \n",
    "print(\"Modified list:\", my_list)\n"
   ]
  },
  {
   "cell_type": "code",
   "execution_count": 22,
   "id": "eddcb843-3fef-417d-bf40-b41822d2a676",
   "metadata": {},
   "outputs": [
    {
     "ename": "TypeError",
     "evalue": "'tuple' object does not support item assignment",
     "output_type": "error",
     "traceback": [
      "\u001b[0;31m---------------------------------------------------------------------------\u001b[0m",
      "\u001b[0;31mTypeError\u001b[0m                                 Traceback (most recent call last)",
      "Cell \u001b[0;32mIn[22], line 10\u001b[0m\n\u001b[1;32m      6\u001b[0m my_tuple \u001b[38;5;241m=\u001b[39m (\u001b[38;5;241m1\u001b[39m, \u001b[38;5;241m2\u001b[39m, \u001b[38;5;241m3\u001b[39m, \u001b[38;5;241m4\u001b[39m)\n\u001b[1;32m      8\u001b[0m \u001b[38;5;66;03m# Trying to modify the tuple\u001b[39;00m\n\u001b[1;32m      9\u001b[0m \u001b[38;5;66;03m# This will raise an error since tuples are immutable\u001b[39;00m\n\u001b[0;32m---> 10\u001b[0m \u001b[43mmy_tuple\u001b[49m\u001b[43m[\u001b[49m\u001b[38;5;241;43m0\u001b[39;49m\u001b[43m]\u001b[49m \u001b[38;5;241m=\u001b[39m \u001b[38;5;241m10\u001b[39m\n",
      "\u001b[0;31mTypeError\u001b[0m: 'tuple' object does not support item assignment"
     ]
    }
   ],
   "source": [
    "# IMMUTABLE DATA TYPES;\n",
    "#->Immutable data types are data types in programming that cannot be modified or changed after they are created.\n",
    "\n",
    "# EXAMPLE:\n",
    "\n",
    "my_tuple = (1, 2, 3, 4)\n",
    "\n",
    "# Trying to modify the tuple\n",
    "# This will raise an error since tuples are immutable\n",
    "my_tuple[0] = 10\n",
    "\n"
   ]
  },
  {
   "cell_type": "code",
   "execution_count": null,
   "id": "21022396-d51a-4d18-83e9-359918d39665",
   "metadata": {},
   "outputs": [],
   "source": []
  }
 ],
 "metadata": {
  "kernelspec": {
   "display_name": "Python 3 (ipykernel)",
   "language": "python",
   "name": "python3"
  },
  "language_info": {
   "codemirror_mode": {
    "name": "ipython",
    "version": 3
   },
   "file_extension": ".py",
   "mimetype": "text/x-python",
   "name": "python",
   "nbconvert_exporter": "python",
   "pygments_lexer": "ipython3",
   "version": "3.10.8"
  }
 },
 "nbformat": 4,
 "nbformat_minor": 5
}
